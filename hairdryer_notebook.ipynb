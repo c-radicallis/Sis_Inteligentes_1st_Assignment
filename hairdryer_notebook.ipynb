{
 "cells": [
  {
   "cell_type": "code",
   "execution_count": 26,
   "metadata": {},
   "outputs": [],
   "source": [
    "# Imports\n",
    "import numpy as np\n",
    "\n",
    "from pandas import read_csv \n",
    "\n",
    "from sklearn.preprocessing import MinMaxScaler\n",
    "from sklearn.model_selection import train_test_split\n",
    "\n",
    "from pyfume.Clustering import Clusterer\n",
    "from pyfume.EstimateAntecendentSet import AntecedentEstimator\n",
    "from pyfume.EstimateConsequentParameters import ConsequentEstimator\n",
    "from pyfume.SimpfulModelBuilder import SugenoFISBuilder\n",
    "from pyfume.Tester import SugenoFISTester\n",
    "\n",
    "from sklearn.metrics import mean_squared_error, mean_absolute_percentage_error, explained_variance_score"
   ]
  },
  {
   "cell_type": "code",
   "execution_count": 27,
   "metadata": {},
   "outputs": [],
   "source": [
    "#  Load dataset and create train-test sets\n",
    "data = read_csv('data/hairdryer.csv')"
   ]
  },
  {
   "cell_type": "code",
   "execution_count": 28,
   "metadata": {},
   "outputs": [],
   "source": [
    "var_names = data.columns[0:-1]"
   ]
  },
  {
   "cell_type": "code",
   "execution_count": 29,
   "metadata": {},
   "outputs": [],
   "source": [
    "data = data.to_numpy()"
   ]
  },
  {
   "cell_type": "code",
   "execution_count": 30,
   "metadata": {},
   "outputs": [
    {
     "data": {
      "text/plain": [
       "'scaler = MinMaxScaler()\\ndata = scaler.fit_transform(data)'"
      ]
     },
     "execution_count": 30,
     "metadata": {},
     "output_type": "execute_result"
    }
   ],
   "source": [
    "# Run this cell to normalize variables\n",
    "\n",
    "\"\"\"scaler = MinMaxScaler()\n",
    "data = scaler.fit_transform(data)\"\"\""
   ]
  },
  {
   "cell_type": "code",
   "execution_count": 31,
   "metadata": {},
   "outputs": [],
   "source": [
    "# train/test split\n",
    "X = data[:,0:-1]\n",
    "y = data[:,-1]\n",
    "X_train, X_test, y_train, y_test = train_test_split(X, y, test_size=0.2, random_state=0)"
   ]
  },
  {
   "cell_type": "code",
   "execution_count": 32,
   "metadata": {},
   "outputs": [],
   "source": [
    "# %% Cluster the input-output space\n",
    "\n",
    "number_of_clusters = 2\n",
    "\n",
    "cl = Clusterer(x_train=X_train, y_train=y_train, nr_clus=number_of_clusters)  # Number of clusters\n",
    "clust_centers, part_matrix, _ = cl.cluster(method='fcm')"
   ]
  },
  {
   "cell_type": "code",
   "execution_count": 33,
   "metadata": {},
   "outputs": [],
   "source": [
    "# %% Estimate membership functions parameters\n",
    "ae = AntecedentEstimator(X_train, part_matrix)\n",
    "antecedent_params = ae.determineMF()"
   ]
  },
  {
   "cell_type": "code",
   "execution_count": 34,
   "metadata": {},
   "outputs": [],
   "source": [
    "# %% Estimate consequent parameters\n",
    "ce = ConsequentEstimator(X_train, y_train, part_matrix)\n",
    "conseq_params = ce.suglms()"
   ]
  },
  {
   "cell_type": "code",
   "execution_count": 35,
   "metadata": {},
   "outputs": [
    {
     "name": "stdout",
     "output_type": "stream",
     "text": [
      " * Detected 2 rules / clusters\n",
      " * Code saved to file Simpful_code.py\n",
      " * Detected Sugeno model type\n"
     ]
    }
   ],
   "source": [
    "# %% Build first-order Takagi-Sugeno model\n",
    "modbuilder = SugenoFISBuilder(antecedent_params, conseq_params, var_names, save_simpful_code=True) #change this setting to save simpful code\n",
    "model = modbuilder.get_model()"
   ]
  },
  {
   "cell_type": "code",
   "execution_count": 36,
   "metadata": {},
   "outputs": [],
   "source": [
    "# %% Get model predictions\n",
    "modtester = SugenoFISTester(model, X_test, var_names)\n",
    "y_pred = modtester.predict()[0]"
   ]
  },
  {
   "cell_type": "code",
   "execution_count": 37,
   "metadata": {},
   "outputs": [
    {
     "name": "stdout",
     "output_type": "stream",
     "text": [
      "Mean Squared Error: 0.726\n",
      "Mean Absolute Percentage Error: 15.3%\n",
      "Explained Variance Score: 0.001\n"
     ]
    }
   ],
   "source": [
    "# %% Compute regression metrics\n",
    "mse = mean_squared_error(y_test, y_pred)\n",
    "print(\"Mean Squared Error: {:.3f}\".format(mse))\n",
    "mape = mean_absolute_percentage_error(y_test, y_pred)\n",
    "print(\"Mean Absolute Percentage Error: {:.1f}%\".format(mape*100))\n",
    "exp_var = explained_variance_score(y_test, y_pred)\n",
    "print(\"Explained Variance Score: {:.3f}\".format(exp_var))"
   ]
  },
  {
   "cell_type": "markdown",
   "metadata": {},
   "source": [
    "# Comparing settings"
   ]
  },
  {
   "cell_type": "code",
   "execution_count": 40,
   "metadata": {},
   "outputs": [
    {
     "name": "stdout",
     "output_type": "stream",
     "text": [
      " * Detected 2 rules / clusters\n",
      " * Detected Sugeno model type\n",
      "Mean Squared Error: 0.726\n",
      "Explained Variance Score: 0.001\n",
      " * Detected 3 rules / clusters\n",
      " * Detected Sugeno model type\n",
      "Mean Squared Error: 0.729\n",
      "Explained Variance Score: 0.004\n",
      " * Detected 4 rules / clusters\n",
      " * Detected Sugeno model type\n",
      "Mean Squared Error: 0.727\n",
      "Explained Variance Score: 0.005\n",
      " * Detected 5 rules / clusters\n",
      " * Detected Sugeno model type\n",
      "Mean Squared Error: 0.742\n",
      "Explained Variance Score: 0.005\n",
      " * Detected 6 rules / clusters\n",
      " * Detected Sugeno model type\n",
      "Mean Squared Error: 0.741\n",
      "Explained Variance Score: 0.005\n",
      " * Detected 7 rules / clusters\n",
      " * Detected Sugeno model type\n",
      "Mean Squared Error: 0.752\n",
      "Explained Variance Score: 0.005\n",
      " * Detected 8 rules / clusters\n",
      " * Detected Sugeno model type\n",
      "Mean Squared Error: 0.748\n",
      "Explained Variance Score: 0.004\n",
      " * Detected 9 rules / clusters\n",
      " * Detected Sugeno model type\n",
      "Mean Squared Error: 0.761\n",
      "Explained Variance Score: 0.004\n",
      " * Detected 10 rules / clusters\n",
      " * Detected Sugeno model type\n",
      "Mean Squared Error: 0.759\n",
      "Explained Variance Score: 0.003\n",
      " * Detected 2 rules / clusters\n",
      " * Detected Sugeno model type\n",
      "Mean Squared Error: 0.726\n",
      "Explained Variance Score: -0.002\n",
      " * Detected 3 rules / clusters\n",
      " * Detected Sugeno model type\n",
      "Mean Squared Error: 0.725\n",
      "Explained Variance Score: -0.006\n",
      " * Detected 4 rules / clusters\n",
      " * Detected Sugeno model type\n",
      "Mean Squared Error: 0.721\n",
      "Explained Variance Score: -0.003\n",
      " * Detected 5 rules / clusters\n",
      " * Detected Sugeno model type\n",
      "Mean Squared Error: 0.725\n",
      "Explained Variance Score: -0.006\n",
      " * Detected 6 rules / clusters\n",
      " * Detected Sugeno model type\n",
      "Mean Squared Error: 0.725\n",
      "Explained Variance Score: -0.006\n",
      " * Detected 7 rules / clusters\n",
      " * Detected Sugeno model type\n",
      "Mean Squared Error: 0.722\n",
      "Explained Variance Score: -0.003\n",
      " * Detected 8 rules / clusters\n",
      " * Detected Sugeno model type\n",
      "Mean Squared Error: 0.717\n",
      "Explained Variance Score: -0.002\n",
      " * Detected 9 rules / clusters\n",
      " * Detected Sugeno model type\n",
      "Mean Squared Error: 0.716\n",
      "Explained Variance Score: -0.002\n",
      " * Detected 10 rules / clusters\n",
      " * Detected Sugeno model type\n",
      "Mean Squared Error: 0.736\n",
      "Explained Variance Score: 0.002\n"
     ]
    }
   ],
   "source": [
    "# %% Cluster the input-output space\n",
    "\n",
    "ncl = np.arange( 2 , 11)\n",
    "mtd = ['fcm','gk']\n",
    "glb_ft = [True , False]\n",
    "\n",
    "globaly_mse = []\n",
    "globaly_acc = []\n",
    "globaly_exp_var = []\n",
    "\n",
    "localy_mse = []\n",
    "localy_acc = []\n",
    "localy_exp_var = []\n",
    "\n",
    "\n",
    "\n",
    "for ft in glb_ft:\n",
    "  for mth in mtd:\n",
    "    for n in ncl:\n",
    "      if ft == True:\n",
    "        opt_ft = 'global'\n",
    "      else:\n",
    "        opt_ft = 'local'\n",
    "\n",
    "        cl = Clusterer(x_train=X_train, y_train=y_train, nr_clus= n)  # Number of clusters\n",
    "        clust_centers, part_matrix, _ = cl.cluster(method= mth)\n",
    "        \n",
    "        # %% Estimate membership functions parameters\n",
    "        ae = AntecedentEstimator(X_train, part_matrix)\n",
    "        antecedent_params = ae.determineMF()\n",
    "        \n",
    "        # %% Estimate consequent parameters\n",
    "        ce = ConsequentEstimator(X_train, y_train, part_matrix)\n",
    "        conseq_params = ce.suglms(global_fit=ft)\n",
    "        \n",
    "        # %% Build first-order Takagi-Sugeno model\n",
    "        modbuilder = SugenoFISBuilder(antecedent_params, conseq_params, var_names, save_simpful_code=False) #change this setting to save simpful code\n",
    "        model = modbuilder.get_model()\n",
    "        \n",
    "        # %% Get model predictions\n",
    "        modtester = SugenoFISTester(model, X_test, var_names)\n",
    "        y_pred = modtester.predict()[0]\n",
    "        \n",
    "        # %% Compute regression metrics\n",
    "        mse = mean_squared_error(y_test, y_pred)\n",
    "        print(\"Mean Squared Error: {:.3f}\".format(mse))\n",
    "        exp_var = explained_variance_score(y_test, y_pred)\n",
    "        print(\"Explained Variance Score: {:.3f}\".format(exp_var))\n",
    "\n",
    "      if ft==True:\n",
    "        globaly_mse.append(mse)\n",
    "        globaly_exp_var.append(exp_var)\n",
    "\n",
    "      else:\n",
    "        localy_mse.append(mse)\n",
    "        localy_exp_var.append(exp_var)"
   ]
  },
  {
   "cell_type": "markdown",
   "metadata": {},
   "source": [
    "fazer gráfico com actual vs predicted values"
   ]
  },
  {
   "cell_type": "code",
   "execution_count": 14,
   "metadata": {},
   "outputs": [
    {
     "data": {
      "image/png": "[encoded data removed]",
      "text/plain": [
       "<Figure size 640x480 with 1 Axes>"
      ]
     },
     "metadata": {},
     "output_type": "display_data"
    }
   ],
   "source": [
    "### Plot the actual values vs the predicted values of the test data using the matplotlib library\n",
    "\n",
    "# this is done already on the cell above \n",
    "\"\"\"\"# Predict the labels of the test data\n",
    "pred = model.predict_test_data()\"\"\"\n",
    "\n",
    "\n",
    "\"\"\"# Get the actual labels of the test data\n",
    "_, actual = modbuilder.get_data(data_set='test')\n",
    "\"\"\"\n",
    "\n",
    "# Create scatterplot\n",
    "import matplotlib.pyplot as plt \n",
    "plt.scatter(y_test, y_pred)\n",
    "plt.xlabel('Actual value') \n",
    "plt.ylabel('Predicted value')\n",
    "#plt.plot([0,85],[0,85],'r')     # Add a reference line\n",
    "plt.show()"
   ]
  },
  {
   "cell_type": "code",
   "execution_count": null,
   "metadata": {},
   "outputs": [],
   "source": []
  },
  {
   "cell_type": "markdown",
   "metadata": {},
   "source": [
    "usar K-fold CV para obter performance de cada modelo (modelos com diferentes numeros de clusters)"
   ]
  }
 ],
 "metadata": {
  "kernelspec": {
   "display_name": "base",
   "language": "python",
   "name": "python3"
  },
  "language_info": {
   "codemirror_mode": {
    "name": "ipython",
    "version": 3
   },
   "file_extension": ".py",
   "mimetype": "text/x-python",
   "name": "python",
   "nbconvert_exporter": "python",
   "pygments_lexer": "ipython3",
   "version": "3.11.5"
  }
 },
 "nbformat": 4,
 "nbformat_minor": 2
}
