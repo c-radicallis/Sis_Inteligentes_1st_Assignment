{
  "nbformat": 4,
  "nbformat_minor": 0,
  "metadata": {
    "colab": {
      "provenance": [],
      "collapsed_sections": [
        "V6dMOlhvcEpa"
      ]
    },
    "kernelspec": {
      "name": "python3",
      "display_name": "Python 3"
    },
    "language_info": {
      "name": "python"
    }
  },
  "cells": [
    {
      "cell_type": "markdown",
      "source": [
        "# Installation and Imports"
      ],
      "metadata": {
        "id": "V6dMOlhvcEpa"
      }
    },
    {
      "cell_type": "code",
      "execution_count": 1,
      "metadata": {
        "colab": {
          "base_uri": "https://localhost:8080/"
        },
        "id": "lQJOZflTV48q",
        "outputId": "ed27ecb7-d662-4910-8f4c-0faea146f466"
      },
      "outputs": [
        {
          "output_type": "stream",
          "name": "stdout",
          "text": [
            "Requirement already satisfied: pyFUME in /usr/local/lib/python3.10/dist-packages (0.3.4)\n",
            "Requirement already satisfied: scipy==1.10.1 in /usr/local/lib/python3.10/dist-packages (from pyFUME) (1.10.1)\n",
            "Requirement already satisfied: numpy==1.24.4 in /usr/local/lib/python3.10/dist-packages (from pyFUME) (1.24.4)\n",
            "Requirement already satisfied: simpful==2.12.0 in /usr/local/lib/python3.10/dist-packages (from pyFUME) (2.12.0)\n",
            "Requirement already satisfied: fst-pso==1.8.1 in /usr/local/lib/python3.10/dist-packages (from pyFUME) (1.8.1)\n",
            "Requirement already satisfied: pandas==1.5.3 in /usr/local/lib/python3.10/dist-packages (from pyFUME) (1.5.3)\n",
            "Requirement already satisfied: miniful in /usr/local/lib/python3.10/dist-packages (from fst-pso==1.8.1->pyFUME) (0.0.6)\n",
            "Requirement already satisfied: python-dateutil>=2.8.1 in /usr/local/lib/python3.10/dist-packages (from pandas==1.5.3->pyFUME) (2.8.2)\n",
            "Requirement already satisfied: pytz>=2020.1 in /usr/local/lib/python3.10/dist-packages (from pandas==1.5.3->pyFUME) (2024.2)\n",
            "Requirement already satisfied: six>=1.5 in /usr/local/lib/python3.10/dist-packages (from python-dateutil>=2.8.1->pandas==1.5.3->pyFUME) (1.16.0)\n"
          ]
        }
      ],
      "source": [
        "# pyFUME & other packages installation\n",
        "!pip install pyFUME"
      ]
    },
    {
      "cell_type": "code",
      "source": [
        "# libraries imports\n",
        "\n",
        "# Read and Pre-process the dataset\n",
        "import numpy as np\n",
        "import pandas as pd\n",
        "from sklearn.preprocessing import MinMaxScaler\n",
        "from sklearn.model_selection import train_test_split\n",
        "\n",
        "# Fuzzy set and model\n",
        "from pyfume.Clustering import Clusterer\n",
        "from pyfume.EstimateAntecendentSet import AntecedentEstimator\n",
        "from pyfume.EstimateConsequentParameters import ConsequentEstimator\n",
        "from pyfume.SimpfulModelBuilder import SugenoFISBuilder\n",
        "from pyfume.Tester import SugenoFISTester\n",
        "\n",
        "# Model Performance\n",
        "from sklearn.metrics import accuracy_score, recall_score, precision_score, f1_score, cohen_kappa_score, mean_squared_error, mean_absolute_percentage_error, explained_variance_score\n",
        "from numpy import clip, column_stack, argmax\n"
      ],
      "metadata": {
        "id": "s9IkcomRYUz2"
      },
      "execution_count": 2,
      "outputs": []
    },
    {
      "cell_type": "code",
      "source": [
        "# Function to calculate Variance Accounted For (VAF)\n",
        "def calculate_vaf(actual, predicted):\n",
        "    error = actual - predicted\n",
        "    var_error = np.var(error)\n",
        "    var_actual = np.var(actual)\n",
        "    vaf = (1 - var_error / var_actual) * 100\n",
        "    return vaf"
      ],
      "metadata": {
        "id": "ERQDxmw_HLzT"
      },
      "execution_count": 3,
      "outputs": []
    },
    {
      "cell_type": "markdown",
      "source": [
        "# Pre-Process dataset\n"
      ],
      "metadata": {
        "id": "vcL_kfphhF1z"
      }
    },
    {
      "cell_type": "code",
      "source": [
        "# Loading the dataset\n",
        "data = pd.read_csv('/content/wbco.csv',sep=',',header = None, names=['x1','x2','x3','x4','x5','x6','x7','x8','x9','y'])\n",
        "print(data.head(20))\n",
        "\n",
        "# Variables' names\n",
        "features = data.columns[:-1]\n",
        "print(features)\n",
        "\n",
        "# Display data information (check for missing values, data types)\n",
        "print(data.info())\n",
        "\n",
        "# Check the distribution of the class labels\n",
        "print(data['y'].value_counts())\n",
        "\n",
        "# Replace '?' with NaN\n",
        "data.replace('?', np.nan, inplace=True)\n",
        "\n",
        "# Check for missing values\n",
        "print(data.isnull().sum())\n",
        "\n",
        "#  Drop rows with missing values\n",
        "data_cleaned = data.dropna(how = 'any')\n",
        "\n",
        "# Convert a specific column to int64\n",
        "data_cleaned['x6'] = pd.to_numeric(data_cleaned['x6'], errors='coerce')\n",
        "\n",
        "# Display data information (check for missing values, data types)\n",
        "print(data_cleaned.info())\n",
        "\n",
        "# Check the distribution of the class labels\n",
        "print(data_cleaned['y'].value_counts())\n"
      ],
      "metadata": {
        "colab": {
          "base_uri": "https://localhost:8080/"
        },
        "id": "u4_NiQ9jecxk",
        "outputId": "ec3f864f-cdb4-42ce-cfb4-15aefbfd06f6"
      },
      "execution_count": 4,
      "outputs": [
        {
          "output_type": "stream",
          "name": "stdout",
          "text": [
            "    x1  x2  x3  x4  x5  x6  x7  x8  x9  y\n",
            "0    5   1   1   1   2   1   3   1   1  0\n",
            "1    5   4   4   5   7  10   3   2   1  0\n",
            "2    3   1   1   1   2   2   3   1   1  0\n",
            "3    6   8   8   1   3   4   3   7   1  0\n",
            "4    4   1   1   3   2   1   3   1   1  0\n",
            "5    8  10  10   8   7  10   9   7   1  1\n",
            "6    1   1   1   1   2  10   3   1   1  0\n",
            "7    2   1   2   1   2   1   3   1   1  0\n",
            "8    2   1   1   1   2   1   1   1   5  0\n",
            "9    4   2   1   1   2   1   2   1   1  0\n",
            "10   1   1   1   1   1   1   3   1   1  0\n",
            "11   2   1   1   1   2   1   2   1   1  0\n",
            "12   5   3   3   3   2   3   4   4   1  1\n",
            "13   1   1   1   1   2   3   3   1   1  0\n",
            "14   8   7   5  10   7   9   5   5   4  1\n",
            "15   7   4   6   4   6   1   4   3   1  1\n",
            "16   4   1   1   1   2   1   2   1   1  0\n",
            "17   4   1   1   1   2   1   3   1   1  0\n",
            "18  10   7   7   6   4  10   4   1   2  1\n",
            "19   6   1   1   1   2   1   3   1   1  0\n",
            "Index(['x1', 'x2', 'x3', 'x4', 'x5', 'x6', 'x7', 'x8', 'x9'], dtype='object')\n",
            "<class 'pandas.core.frame.DataFrame'>\n",
            "RangeIndex: 699 entries, 0 to 698\n",
            "Data columns (total 10 columns):\n",
            " #   Column  Non-Null Count  Dtype \n",
            "---  ------  --------------  ----- \n",
            " 0   x1      699 non-null    int64 \n",
            " 1   x2      699 non-null    int64 \n",
            " 2   x3      699 non-null    int64 \n",
            " 3   x4      699 non-null    int64 \n",
            " 4   x5      699 non-null    int64 \n",
            " 5   x6      699 non-null    object\n",
            " 6   x7      699 non-null    int64 \n",
            " 7   x8      699 non-null    int64 \n",
            " 8   x9      699 non-null    int64 \n",
            " 9   y       699 non-null    int64 \n",
            "dtypes: int64(9), object(1)\n",
            "memory usage: 54.7+ KB\n",
            "None\n",
            "0    458\n",
            "1    241\n",
            "Name: y, dtype: int64\n",
            "x1     0\n",
            "x2     0\n",
            "x3     0\n",
            "x4     0\n",
            "x5     0\n",
            "x6    16\n",
            "x7     0\n",
            "x8     0\n",
            "x9     0\n",
            "y      0\n",
            "dtype: int64\n",
            "<class 'pandas.core.frame.DataFrame'>\n",
            "Int64Index: 683 entries, 0 to 698\n",
            "Data columns (total 10 columns):\n",
            " #   Column  Non-Null Count  Dtype\n",
            "---  ------  --------------  -----\n",
            " 0   x1      683 non-null    int64\n",
            " 1   x2      683 non-null    int64\n",
            " 2   x3      683 non-null    int64\n",
            " 3   x4      683 non-null    int64\n",
            " 4   x5      683 non-null    int64\n",
            " 5   x6      683 non-null    int64\n",
            " 6   x7      683 non-null    int64\n",
            " 7   x8      683 non-null    int64\n",
            " 8   x9      683 non-null    int64\n",
            " 9   y       683 non-null    int64\n",
            "dtypes: int64(10)\n",
            "memory usage: 58.7 KB\n",
            "None\n",
            "0    444\n",
            "1    239\n",
            "Name: y, dtype: int64\n"
          ]
        },
        {
          "output_type": "stream",
          "name": "stderr",
          "text": [
            "<ipython-input-4-6eccd2be9596>:25: SettingWithCopyWarning: \n",
            "A value is trying to be set on a copy of a slice from a DataFrame.\n",
            "Try using .loc[row_indexer,col_indexer] = value instead\n",
            "\n",
            "See the caveats in the documentation: https://pandas.pydata.org/pandas-docs/stable/user_guide/indexing.html#returning-a-view-versus-a-copy\n",
            "  data_cleaned['x6'] = pd.to_numeric(data_cleaned['x6'], errors='coerce')\n"
          ]
        }
      ]
    },
    {
      "cell_type": "code",
      "source": [
        "# Scalling each feature to a range between 0 and 1\n",
        "data_cleaned = data_cleaned.to_numpy()\n",
        "scaler = MinMaxScaler()\n",
        "df = scaler.fit_transform(data_cleaned)\n",
        "\n",
        "print(df)"
      ],
      "metadata": {
        "colab": {
          "base_uri": "https://localhost:8080/"
        },
        "id": "nOjF3U698JFX",
        "outputId": "07e3a36e-7fa6-489f-fd05-e0b81581c09a"
      },
      "execution_count": 5,
      "outputs": [
        {
          "output_type": "stream",
          "name": "stdout",
          "text": [
            "[[0.44444444 0.         0.         ... 0.         0.         0.        ]\n",
            " [0.44444444 0.33333333 0.33333333 ... 0.11111111 0.         0.        ]\n",
            " [0.22222222 0.         0.         ... 0.         0.         0.        ]\n",
            " ...\n",
            " [0.44444444 1.         1.         ... 1.         0.11111111 1.        ]\n",
            " [0.33333333 0.77777778 0.55555556 ... 0.55555556 0.         1.        ]\n",
            " [0.33333333 0.77777778 0.77777778 ... 0.33333333 0.         1.        ]]\n"
          ]
        }
      ]
    },
    {
      "cell_type": "code",
      "source": [
        "X = df[:,:-1]\n",
        "y = df[:,-1]\n",
        "\n",
        "# Spliting the dataset in a train set and test set\n",
        "\n",
        "X_train, X_test, y_train, y_test = train_test_split(X, y, test_size=0.2, random_state=42)"
      ],
      "metadata": {
        "id": "kboKcgUEA6VV"
      },
      "execution_count": 6,
      "outputs": []
    },
    {
      "cell_type": "markdown",
      "source": [
        "# Model\n"
      ],
      "metadata": {
        "id": "x2nuOxVbzRRS"
      }
    },
    {
      "cell_type": "code",
      "source": [
        "# Parameter to search: - number of cluster: n_cl;\n",
        "#                    : - method = fcm (Fuzzy c-means),\n",
        "#                                 fst-pso(Fuzzy self tunning particle swarm optimization),\n",
        "#                                 gk (Gustafson-Kessel)\n",
        "\n",
        "# Cluster training data\n",
        "n_cl = 3\n",
        "cl = Clusterer(n_cl,X_train,y_train)\n",
        "cluster_centers , partition_matrix, _ = cl.cluster(method = 'fcm')\n"
      ],
      "metadata": {
        "id": "oNubJLjVp6eF"
      },
      "execution_count": 7,
      "outputs": []
    },
    {
      "cell_type": "code",
      "source": [
        "# Estimate the membership functions of the system. default: mf_shape = gaussian\n",
        "ae = AntecedentEstimator(X_train, partition_matrix)\n",
        "antecedent_params = ae.determineMF()\n",
        "\n",
        "#Parameter to search: - Global optimization vs Local optimization\n",
        "\n",
        "# Estimate the parameters of the consequence. default: global fitting = True\n",
        "ce = ConsequentEstimator(X_train,y_train, partition_matrix)\n",
        "consequent_params = ce.suglms(global_fit=True)"
      ],
      "metadata": {
        "id": "1YfGlP28ubRR"
      },
      "execution_count": 8,
      "outputs": []
    },
    {
      "cell_type": "code",
      "source": [
        "# %% Build first-order Takagi-Sugeno model\n",
        "modbuilder = SugenoFISBuilder(antecedent_params, consequent_params, features, save_simpful_code=False)\n",
        "model = modbuilder.get_model()\n",
        "\n",
        "# %% Get model predictions\n",
        "modtester = SugenoFISTester(model, X_test, features)\n",
        "y_pred = modtester.predict()[0]\n",
        "\n",
        "# %% Compute regression metrics\n",
        "mse = mean_squared_error(y_test, y_pred)\n",
        "print(\"Mean Squared Error: {:.3f}\".format(mse))\n",
        "vaf = calculate_vaf(y_test, y_pred)\n",
        "print(\"Variance Accounted for: {:.1f}\".format(vaf))\n",
        "exp_var = explained_variance_score(y_test, y_pred)\n",
        "print(\"Explained Variance Score: {:.3f}\".format(exp_var))"
      ],
      "metadata": {
        "colab": {
          "base_uri": "https://localhost:8080/"
        },
        "id": "H9mEkI16FiIQ",
        "outputId": "7c1e09a9-ad77-48f9-ab99-fb245a5a019b"
      },
      "execution_count": 11,
      "outputs": [
        {
          "output_type": "stream",
          "name": "stdout",
          "text": [
            " * Detected 3 rules / clusters\n",
            " * Detected Sugeno model type\n",
            "Mean Squared Error: 0.390\n",
            "Variance Accounted for: -9.0\n",
            "Explained Variance Score: -0.090\n"
          ]
        }
      ]
    },
    {
      "cell_type": "code",
      "source": [
        "ncl = [2, 3, 5, 8]\n",
        "mtd = ['fcm','gk']\n",
        "glb_ft = [True , False]\n",
        "\n",
        "globaly_mse = []\n",
        "globaly_acc = []\n",
        "globaly_exp_var = []\n",
        "\n",
        "localy_mse = []\n",
        "localy_acc = []\n",
        "localy_exp_var = []\n",
        "\n",
        "\n",
        "\n",
        "for ft in glb_ft:\n",
        "  for mth in mtd:\n",
        "    for n in ncl:\n",
        "      if ft == True:\n",
        "        opt_ft = 'global'\n",
        "      else:\n",
        "        opt_ft = 'local'\n",
        "\n",
        "      # Cluster training data\n",
        "      cl = Clusterer(n,X_train,y_train)\n",
        "      cluster_centers , partition_matrix, _ = cl.cluster(method = mth)\n",
        "\n",
        "      # Estimate the membership functions of the system. default: mf_shape = gaussian\n",
        "      ae = AntecedentEstimator(X_train, partition_matrix)\n",
        "      antecedent_params = ae.determineMF()\n",
        "\n",
        "      # Estimate the parameters of the consequence.\n",
        "      ce = ConsequentEstimator(X_train,y_train, partition_matrix)\n",
        "      consequent_params = ce.suglms(global_fit=ft)\n",
        "\n",
        "      # %% Build first-order Takagi-Sugeno model\n",
        "      modbuilder = SugenoFISBuilder(antecedent_params, consequent_params, features, save_simpful_code=False)\n",
        "      model = modbuilder.get_model()\n",
        "\n",
        "      # %% Get model predictions\n",
        "      modtester = SugenoFISTester(model, X_test, features)\n",
        "      y_pred = modtester.predict()[0]\n",
        "\n",
        "      print(\"The following values were obtained for {} clusters, by method {} doing a {} optimization.\".format(n,mth,opt_ft))\n",
        "\n",
        "      # NOTA: talvez seja melhor user a Accuracy e VAF do que mape e exp_var\n",
        "      # %% Compute regression metrics\n",
        "      mse = mean_squared_error(y_test, y_pred)\n",
        "      print(\"Mean Squared Error: {:.3f}\".format(mse))\n",
        "      vaf = calculate_vaf(y_test, y_pred)\n",
        "      print(\"Variance Accounted for: {:.1f}\".format(vaf))\n",
        "      exp_var = explained_variance_score(y_test, y_pred)\n",
        "      print(\"Explained Variance Score: {:.3f}\".format(exp_var))\n",
        "\n",
        "\n",
        "\n",
        "      if ft==True:\n",
        "        globaly_mse.append(mse)\n",
        "        globaly_acc.append(vaf)\n",
        "        globaly_exp_var.append(exp_var)\n",
        "\n",
        "      else:\n",
        "        localy_mse.append(mse)\n",
        "        localy_acc.append(vaf)\n",
        "        localy_exp_var.append(exp_var)\n",
        "\n",
        "\n",
        "\n"
      ],
      "metadata": {
        "colab": {
          "base_uri": "https://localhost:8080/"
        },
        "id": "uW2kaLs3Ldqi",
        "outputId": "94edd0d3-096b-43b2-f7f8-f496557065a8"
      },
      "execution_count": 12,
      "outputs": [
        {
          "output_type": "stream",
          "name": "stdout",
          "text": [
            " * Detected 2 rules / clusters\n",
            " * Detected Sugeno model type\n",
            "The following values were obtained for 2 clusters, by method fcm doing a global optimization.\n",
            "Mean Squared Error: 0.414\n",
            "Variance Accounted for: -34.4\n",
            "Explained Variance Score: -0.344\n",
            " * Detected 3 rules / clusters\n",
            " * Detected Sugeno model type\n",
            "The following values were obtained for 3 clusters, by method fcm doing a global optimization.\n",
            "Mean Squared Error: 0.394\n",
            "Variance Accounted for: -9.4\n",
            "Explained Variance Score: -0.094\n",
            " * Detected 5 rules / clusters\n",
            " * Detected Sugeno model type\n",
            "The following values were obtained for 5 clusters, by method fcm doing a global optimization.\n",
            "Mean Squared Error: 0.932\n",
            "Variance Accounted for: -16.7\n",
            "Explained Variance Score: -0.167\n",
            " * Detected 8 rules / clusters\n",
            " * Detected Sugeno model type\n",
            "The following values were obtained for 8 clusters, by method fcm doing a global optimization.\n",
            "Mean Squared Error: 10.875\n",
            "Variance Accounted for: -1902.1\n",
            "Explained Variance Score: -19.021\n",
            " * Detected 2 rules / clusters\n",
            " * Detected Sugeno model type\n",
            "The following values were obtained for 2 clusters, by method gk doing a global optimization.\n",
            "Mean Squared Error: 0.234\n",
            "Variance Accounted for: 14.0\n",
            "Explained Variance Score: 0.140\n",
            " * Detected 3 rules / clusters\n",
            " * Detected Sugeno model type\n",
            "The following values were obtained for 3 clusters, by method gk doing a global optimization.\n",
            "Mean Squared Error: 0.119\n",
            "Variance Accounted for: 62.0\n",
            "Explained Variance Score: 0.620\n",
            " * Detected 5 rules / clusters\n",
            " * Detected Sugeno model type\n",
            "The following values were obtained for 5 clusters, by method gk doing a global optimization.\n",
            "Mean Squared Error: 1108442061718161461466779841760910839719781608064048301605043946253216077568861868511619487811745471283158524960790219241648099493110874112.000\n",
            "Variance Accounted for: -240251303896687297481194335754232841417706846236160779824058416309750351433759780382963627558940022972500365219481854070015603111061207646208.0\n",
            "Explained Variance Score: -2402513038966872855821868975297580602832313016462820629127741229526884043100814654436593853053357981190945773046067268133737866606407581696.000\n",
            " * Detected 8 rules / clusters\n",
            " * Detected Sugeno model type\n",
            "The following values were obtained for 8 clusters, by method gk doing a global optimization.\n",
            "Mean Squared Error: inf\n",
            "Variance Accounted for: -inf\n",
            "Explained Variance Score: -inf\n"
          ]
        },
        {
          "output_type": "stream",
          "name": "stderr",
          "text": [
            "/usr/local/lib/python3.10/dist-packages/sklearn/metrics/_regression.py:510: RuntimeWarning: overflow encountered in square\n",
            "  output_errors = np.average((y_true - y_pred) ** 2, axis=0, weights=sample_weight)\n",
            "/usr/local/lib/python3.10/dist-packages/numpy/core/_methods.py:239: RuntimeWarning: overflow encountered in multiply\n",
            "  x = um.multiply(x, x, out=x)\n",
            "/usr/local/lib/python3.10/dist-packages/sklearn/metrics/_regression.py:1039: RuntimeWarning: overflow encountered in square\n",
            "  (y_true - y_pred - y_diff_avg) ** 2, weights=sample_weight, axis=0\n"
          ]
        },
        {
          "output_type": "stream",
          "name": "stdout",
          "text": [
            " * Detected 2 rules / clusters\n",
            " * Detected Sugeno model type\n",
            "The following values were obtained for 2 clusters, by method fcm doing a local optimization.\n",
            "Mean Squared Error: 0.054\n",
            "Variance Accounted for: 79.4\n",
            "Explained Variance Score: 0.794\n",
            " * Detected 3 rules / clusters\n",
            " * Detected Sugeno model type\n",
            "The following values were obtained for 3 clusters, by method fcm doing a local optimization.\n",
            "Mean Squared Error: 0.050\n",
            "Variance Accounted for: 80.2\n",
            "Explained Variance Score: 0.802\n",
            " * Detected 5 rules / clusters\n",
            " * Detected Sugeno model type\n",
            "The following values were obtained for 5 clusters, by method fcm doing a local optimization.\n",
            "Mean Squared Error: 0.054\n",
            "Variance Accounted for: 80.2\n",
            "Explained Variance Score: 0.802\n",
            " * Detected 8 rules / clusters\n",
            " * Detected Sugeno model type\n",
            "The following values were obtained for 8 clusters, by method fcm doing a local optimization.\n",
            "Mean Squared Error: 0.057\n",
            "Variance Accounted for: 80.0\n",
            "Explained Variance Score: 0.800\n",
            " * Detected 2 rules / clusters\n",
            " * Detected Sugeno model type\n",
            "The following values were obtained for 2 clusters, by method gk doing a local optimization.\n",
            "Mean Squared Error: 0.050\n",
            "Variance Accounted for: 80.3\n",
            "Explained Variance Score: 0.803\n",
            " * Detected 3 rules / clusters\n",
            " * Detected Sugeno model type\n",
            "The following values were obtained for 3 clusters, by method gk doing a local optimization.\n",
            "Mean Squared Error: 0.050\n",
            "Variance Accounted for: 80.3\n",
            "Explained Variance Score: 0.803\n",
            " * Detected 5 rules / clusters\n",
            " * Detected Sugeno model type\n",
            "The following values were obtained for 5 clusters, by method gk doing a local optimization.\n",
            "Mean Squared Error: 0.049\n",
            "Variance Accounted for: 80.4\n",
            "Explained Variance Score: 0.804\n",
            " * Detected 8 rules / clusters\n",
            " * Detected Sugeno model type\n",
            "The following values were obtained for 8 clusters, by method gk doing a local optimization.\n",
            "Mean Squared Error: 0.050\n",
            "Variance Accounted for: 80.3\n",
            "Explained Variance Score: 0.803\n"
          ]
        }
      ]
    },
    {
      "cell_type": "code",
      "source": [],
      "metadata": {
        "id": "ZLRr2Soc-IhL"
      },
      "execution_count": null,
      "outputs": []
    },
    {
      "cell_type": "code",
      "source": [],
      "metadata": {
        "id": "t5jnA8PFVUBs"
      },
      "execution_count": null,
      "outputs": []
    },
    {
      "cell_type": "code",
      "source": [
        "# Plots\n",
        "# Fazer"
      ],
      "metadata": {
        "id": "nlFV8PbbUnt1"
      },
      "execution_count": null,
      "outputs": []
    },
    {
      "cell_type": "markdown",
      "source": [
        "# Lixo\n"
      ],
      "metadata": {
        "id": "U-5KJHQKjCYK"
      }
    },
    {
      "cell_type": "code",
      "source": [],
      "metadata": {
        "id": "6N8nIiQnl5yF"
      },
      "execution_count": null,
      "outputs": []
    }
  ]
}